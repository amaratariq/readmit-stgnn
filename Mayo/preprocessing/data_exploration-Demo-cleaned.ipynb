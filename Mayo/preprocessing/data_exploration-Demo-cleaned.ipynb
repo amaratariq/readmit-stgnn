{
 "cells": [
  {
   "cell_type": "code",
   "execution_count": 1,
   "id": "38f50926",
   "metadata": {},
   "outputs": [
    {
     "name": "stdout",
     "output_type": "stream",
     "text": [
      "all imported\n"
     ]
    }
   ],
   "source": [
    "import pandas as pd\n",
    "import numpy as np\n",
    "import os\n",
    "from collections import Counter\n",
    "import pickle as pkl\n",
    "\n",
    "from sklearn.preprocessing import OneHotEncoder\n",
    "from sklearn.linear_model import LogisticRegression\n",
    "print('all imported')"
   ]
  },
  {
   "cell_type": "code",
   "execution_count": 3,
   "id": "c8d87e6d",
   "metadata": {},
   "outputs": [
    {
     "name": "stderr",
     "output_type": "stream",
     "text": [
      "/opt/conda/lib/python3.7/site-packages/IPython/core/interactiveshell.py:3170: DtypeWarning: Columns (5) have mixed types.Specify dtype option on import or set low_memory=False.\n",
      "  interactivity=interactivity, compiler=compiler, result=result)\n"
     ]
    },
    {
     "data": {
      "text/html": [
       "<div>\n",
       "<style scoped>\n",
       "    .dataframe tbody tr th:only-of-type {\n",
       "        vertical-align: middle;\n",
       "    }\n",
       "\n",
       "    .dataframe tbody tr th {\n",
       "        vertical-align: top;\n",
       "    }\n",
       "\n",
       "    .dataframe thead th {\n",
       "        text-align: right;\n",
       "    }\n",
       "</style>\n",
       "<table border=\"1\" class=\"dataframe\">\n",
       "  <thead>\n",
       "    <tr style=\"text-align: right;\">\n",
       "      <th></th>\n",
       "      <th>Unnamed: 0</th>\n",
       "      <th>Unnamed: 0.1</th>\n",
       "      <th>PATIENT_DK</th>\n",
       "      <th>ADMISSION_DTM</th>\n",
       "      <th>DISCHARGE_DTM</th>\n",
       "      <th>CLOSEST_READMISSION_DTM</th>\n",
       "      <th>Gap in months</th>\n",
       "      <th>VISIT_NUMBER</th>\n",
       "      <th>#</th>\n",
       "      <th>PATIENT_BIRTH_DATE</th>\n",
       "      <th>PATIENT_DEATH_DATE</th>\n",
       "      <th>PATIENT_DECEASED_FLAG</th>\n",
       "      <th>PATIENT_ETHNICITY_NAME</th>\n",
       "      <th>PATIENT_GENDER_NAME</th>\n",
       "      <th>PATIENT_PRIMARY_CITY</th>\n",
       "      <th>PATIENT_RACE_NAME</th>\n",
       "      <th>PATIENT_RELIGION_NAME</th>\n",
       "    </tr>\n",
       "  </thead>\n",
       "  <tbody>\n",
       "    <tr>\n",
       "      <th>0</th>\n",
       "      <td>0</td>\n",
       "      <td>0</td>\n",
       "      <td>9179017</td>\n",
       "      <td>2019-02-07 13:36:00</td>\n",
       "      <td>2019-02-13 14:44:00.000000</td>\n",
       "      <td>2019-04-25 07:06:00</td>\n",
       "      <td>2.0</td>\n",
       "      <td>2000266379652</td>\n",
       "      <td>443153.0</td>\n",
       "      <td>1966-10-25 00:00:00</td>\n",
       "      <td>NaN</td>\n",
       "      <td>N</td>\n",
       "      <td>Not Hispanic or Latino</td>\n",
       "      <td>MALE</td>\n",
       "      <td>CHARLES CITY</td>\n",
       "      <td>White</td>\n",
       "      <td>Church of Christ A Cappella</td>\n",
       "    </tr>\n",
       "    <tr>\n",
       "      <th>1</th>\n",
       "      <td>1</td>\n",
       "      <td>1</td>\n",
       "      <td>1798150</td>\n",
       "      <td>2019-03-06 06:47:00</td>\n",
       "      <td>2019-03-06 08:33:00.000000</td>\n",
       "      <td>2019-07-29 17:26:00</td>\n",
       "      <td>4.0</td>\n",
       "      <td>2000270215822</td>\n",
       "      <td>68380.0</td>\n",
       "      <td>1948-11-29 00:00:00</td>\n",
       "      <td>NaN</td>\n",
       "      <td>N</td>\n",
       "      <td>Not Hispanic or Latino</td>\n",
       "      <td>MALE</td>\n",
       "      <td>DODGE CENTER</td>\n",
       "      <td>White</td>\n",
       "      <td>Lutheran</td>\n",
       "    </tr>\n",
       "  </tbody>\n",
       "</table>\n",
       "</div>"
      ],
      "text/plain": [
       "   Unnamed: 0  Unnamed: 0.1  PATIENT_DK        ADMISSION_DTM  \\\n",
       "0           0             0     9179017  2019-02-07 13:36:00   \n",
       "1           1             1     1798150  2019-03-06 06:47:00   \n",
       "\n",
       "                DISCHARGE_DTM CLOSEST_READMISSION_DTM  Gap in months  \\\n",
       "0  2019-02-13 14:44:00.000000     2019-04-25 07:06:00            2.0   \n",
       "1  2019-03-06 08:33:00.000000     2019-07-29 17:26:00            4.0   \n",
       "\n",
       "    VISIT_NUMBER         #   PATIENT_BIRTH_DATE PATIENT_DEATH_DATE  \\\n",
       "0  2000266379652  443153.0  1966-10-25 00:00:00                NaN   \n",
       "1  2000270215822   68380.0  1948-11-29 00:00:00                NaN   \n",
       "\n",
       "  PATIENT_DECEASED_FLAG  PATIENT_ETHNICITY_NAME PATIENT_GENDER_NAME  \\\n",
       "0                     N  Not Hispanic or Latino                MALE   \n",
       "1                     N  Not Hispanic or Latino                MALE   \n",
       "\n",
       "  PATIENT_PRIMARY_CITY PATIENT_RACE_NAME        PATIENT_RELIGION_NAME  \n",
       "0         CHARLES CITY             White  Church of Christ A Cappella  \n",
       "1         DODGE CENTER             White                     Lutheran  "
      ]
     },
     "execution_count": 3,
     "metadata": {},
     "output_type": "execute_result"
    }
   ],
   "source": [
    "df = pd.read_csv('../bucket/Readmission_30days/Readmission/Demo_Readmission_label.csv') #contains gender, race, ethnicity, DoB\n",
    "df.head(2)"
   ]
  },
  {
   "cell_type": "code",
   "execution_count": 87,
   "id": "a235d610",
   "metadata": {},
   "outputs": [
    {
     "data": {
      "text/plain": [
       "White                               270925\n",
       "UNKNOWN                              30831\n",
       "Black                                10415\n",
       "Asian                                 5131\n",
       "American Indian/Alaskan Native        1683\n",
       "Native Hawaiian/Pacific Islander       368\n",
       "Name: PATIENT_RACE_NAME, dtype: int64"
      ]
     },
     "execution_count": 87,
     "metadata": {},
     "output_type": "execute_result"
    }
   ],
   "source": [
    "#RACE Preparation\n",
    "races = df.PATIENT_RACE_NAME.unique()\n",
    "df['PATIENT_RACE_NAME'] = df['PATIENT_RACE_NAME'].replace({'Unknown':'UNKNOWN', 'Other': 'UNKNOWN', \n",
    "                                                   'Choose Not to Disclose': 'UNKNOWN',\n",
    "                                                   'Unable to Provide': 'UNKNOWN', \n",
    "                                                          ' ': 'UNKNOWN'})\n",
    "for r in races:\n",
    "    if type(r) == str and r.startswith('Asian'):\n",
    "        df['PATIENT_RACE_NAME'] = df['PATIENT_RACE_NAME'].replace({r:'Asian'})\n",
    "\n",
    "for r in races:\n",
    "    if type(r) == str and ('black' in r.lower() or 'african' in r .lower()):\n",
    "        df['PATIENT_RACE_NAME'] = df['PATIENT_RACE_NAME'].replace({r:'Black'})\n",
    "        \n",
    "for r in races:\n",
    "    if type(r) == str and ('american indian' in r.lower() or 'alaskan' in r .lower()):\n",
    "        df['PATIENT_RACE_NAME'] = df['PATIENT_RACE_NAME'].replace({r:'American Indian/Alaskan Native'})\n",
    "\n",
    "        \n",
    "for r in races:\n",
    "    if type(r) == str and ('hawaii' in r.lower() or 'pacific' in r .lower() or 'samoan' in r.lower() or 'guam' in r.lower()):\n",
    "        df['PATIENT_RACE_NAME'] = df['PATIENT_RACE_NAME'].replace({r:'Native Hawaiian/Pacific Islander'})\n",
    "\n",
    "df = df.fillna(value={'PATIENT_RACE_NAME':'UNKNOWN'}).copy()\n",
    "df.PATIENT_RACE_NAME.value_counts()"
   ]
  },
  {
   "cell_type": "code",
   "execution_count": 88,
   "id": "301c254b",
   "metadata": {},
   "outputs": [
    {
     "data": {
      "text/plain": [
       "Not Hispanic or Latino    277976\n",
       "UNKNOWN                    30079\n",
       "Hispanic or Latino         11298\n",
       "Name: PATIENT_ETHNICITY_NAME, dtype: int64"
      ]
     },
     "execution_count": 88,
     "metadata": {},
     "output_type": "execute_result"
    }
   ],
   "source": [
    "#ETHNIC Preparation\n",
    "races = df.PATIENT_ETHNICITY_NAME.unique()\n",
    "df['PATIENT_ETHNICITY_NAME'] = df['PATIENT_ETHNICITY_NAME'].replace({'Unknown':'UNKNOWN', 'Other': 'UNKNOWN', \n",
    "                                                   'Choose Not to Disclose': 'UNKNOWN',\n",
    "                                                   'Unable to Provide': 'UNKNOWN'})\n",
    "\n",
    "for r in races:\n",
    "    if type(r) == str and ('cuba' in r.lower() or 'mexic' in r.lower() or 'puerto' in r .lower() or 'central americ' in r.lower() or 'south americ' in r.lower() or 'spanish' in r.lower()):\n",
    "        df['PATIENT_ETHNICITY_NAME'] = df['PATIENT_ETHNICITY_NAME'].replace({r:'Hispanic or Latino'})\n",
    "\n",
    "df = df.fillna(value={'PATIENT_ETHNICITY_NAME':'UNKNOWN'}).copy()       \n",
    "df.PATIENT_ETHNICITY_NAME.value_counts()"
   ]
  },
  {
   "cell_type": "code",
   "execution_count": 89,
   "id": "fc821eed",
   "metadata": {},
   "outputs": [
    {
     "data": {
      "text/plain": [
       " 6     72961\n",
       " 7     65096\n",
       " 5     49205\n",
       " 8     32825\n",
       " 4     27411\n",
       " 3     25515\n",
       " 2     20125\n",
       " 0      8648\n",
       " 1      8260\n",
       " 9      8205\n",
       " 10      954\n",
       "-1       148\n",
       "Name: PATIENT_AGE_BINNED, dtype: int64"
      ]
     },
     "execution_count": 89,
     "metadata": {},
     "output_type": "execute_result"
    }
   ],
   "source": [
    "#AGE Prep\n",
    "df.ADMISSION_DTM = pd.to_datetime(df.ADMISSION_DTM, errors='coerce')\n",
    "df.DISCHARGE_DTM = pd.to_datetime(df.DISCHARGE_DTM, errors='coerce')\n",
    "df.PATIENT_BIRTH_DATE = pd.to_datetime(df.PATIENT_BIRTH_DATE, errors='coerce')\n",
    "\n",
    "df['PATIENT_AGE'] = (df['ADMISSION_DTM'] - df['PATIENT_BIRTH_DATE']).astype('<m8[Y]')\n",
    "\n",
    "def to_bins(x):\n",
    "    if np.isnan(x):\n",
    "        return -1\n",
    "    else:\n",
    "        if x<100:\n",
    "            return int(x/10)\n",
    "        else:\n",
    "            return 10\n",
    "df['PATIENT_AGE_BINNED'] = df['PATIENT_AGE'].apply(to_bins)\n",
    "df['PATIENT_AGE_BINNED'].value_counts()"
   ]
  },
  {
   "cell_type": "code",
   "execution_count": 90,
   "id": "c19596fe",
   "metadata": {},
   "outputs": [],
   "source": [
    "df.to_csv('Readmission_Data/Readmission_label_Demo_processed.csv')"
   ]
  },
  {
   "cell_type": "code",
   "execution_count": 81,
   "id": "10de912f",
   "metadata": {},
   "outputs": [
    {
     "data": {
      "text/plain": [
       "(230369, 63280)"
      ]
     },
     "execution_count": 81,
     "metadata": {},
     "output_type": "execute_result"
    }
   ],
   "source": [
    "df['INVALID'] = (df.ADMISSION_DTM.isnull()) | (df.DISCHARGE_DTM.isnull())\n",
    "df = df.loc[df.INVALID==False].copy()\n",
    "\n",
    "df_train = df.loc[df.PATIENT_DK.isin(dct['patients_train'])]\n",
    "df_test = df.loc[df.PATIENT_DK.isin(dct['patients_test'])]\n",
    "len(df_train), len(df_test)"
   ]
  },
  {
   "cell_type": "code",
   "execution_count": 130,
   "id": "c00cf162",
   "metadata": {},
   "outputs": [
    {
     "data": {
      "text/plain": [
       "27838"
      ]
     },
     "execution_count": 130,
     "metadata": {},
     "output_type": "execute_result"
    }
   ],
   "source": [
    "len(temp)"
   ]
  },
  {
   "cell_type": "markdown",
   "id": "374f33d7",
   "metadata": {},
   "source": [
    "## recomputation of age"
   ]
  },
  {
   "cell_type": "code",
   "execution_count": 21,
   "id": "c8677a35",
   "metadata": {},
   "outputs": [
    {
     "data": {
      "text/plain": [
       "27838"
      ]
     },
     "execution_count": 21,
     "metadata": {},
     "output_type": "execute_result"
    }
   ],
   "source": [
    "df = pd.read_csv('../bucket1/Amara/Readmission_Data/Baseline/Readmission_label_Demo_processed_w_xray_loc_expanded_w_MRN_48h_cpt_icd_DischargeNote_from_dnotes_file_w_DiagnosisNewL3_w_ClassID_w_XrayIndicator_w_LabCount_w_Death_new.csv')\n",
    "len(df)"
   ]
  },
  {
   "cell_type": "code",
   "execution_count": 7,
   "id": "758c3df9",
   "metadata": {},
   "outputs": [
    {
     "name": "stdout",
     "output_type": "stream",
     "text": [
      "PATIENT_BIRTH_DATE\n",
      "Delivery/Birthing Room Attendance and Resuscitation Services\n"
     ]
    }
   ],
   "source": [
    "for c in df.columns:\n",
    "    if 'birth' in c.lower():\n",
    "        print(c)"
   ]
  },
  {
   "cell_type": "code",
   "execution_count": 10,
   "id": "b4b1a03d",
   "metadata": {},
   "outputs": [
    {
     "data": {
      "text/plain": [
       "(array(['1939-08-21 00:00:00', '1950-05-25 00:00:00',\n",
       "        '1948-12-16 00:00:00', '1947-04-26 00:00:00',\n",
       "        '1957-04-02 00:00:00', '2018-08-06 00:00:00',\n",
       "        '1930-07-27 00:00:00', '1958-12-09 00:00:00',\n",
       "        '1963-11-20 00:00:00', '1937-09-17 00:00:00'], dtype=object),\n",
       " array(['2019-01-01 01:21:00', '2019-01-01 01:49:00',\n",
       "        '2019-01-01 02:25:00', '2019-01-01 03:39:00',\n",
       "        '2019-01-01 03:29:00', '2019-01-01 05:00:00',\n",
       "        '2019-01-01 05:50:00', '2019-01-01 06:07:00',\n",
       "        '2019-01-01 05:51:00', '2019-01-01 07:16:00'], dtype=object))"
      ]
     },
     "execution_count": 10,
     "metadata": {},
     "output_type": "execute_result"
    }
   ],
   "source": [
    "df.PATIENT_BIRTH_DATE.values[:10], df.ADMISSION_DTM.values[:10]"
   ]
  },
  {
   "cell_type": "code",
   "execution_count": 12,
   "id": "1726d4f8",
   "metadata": {},
   "outputs": [],
   "source": [
    "df['ADMISSION_DTM'] = pd.to_datetime(df['ADMISSION_DTM'] ,format = '%Y-%m-%d', errors = 'coerce')\n",
    "df['PATIENT_BIRTH_DATE'] = pd.to_datetime(df['PATIENT_BIRTH_DATE'],format = '%Y-%m-%d', errors = 'coerce')\n"
   ]
  },
  {
   "cell_type": "code",
   "execution_count": 15,
   "id": "473c7f0c",
   "metadata": {},
   "outputs": [
    {
     "data": {
      "text/plain": [
       "Timestamp('2018-08-06 00:00:00')"
      ]
     },
     "execution_count": 15,
     "metadata": {},
     "output_type": "execute_result"
    }
   ],
   "source": [
    "df.at[df.index[5], 'PATIENT_BIRTH_DATE']"
   ]
  },
  {
   "cell_type": "code",
   "execution_count": 18,
   "id": "a7e6d6c6",
   "metadata": {},
   "outputs": [
    {
     "data": {
      "text/plain": [
       "(0.0, 170.0)"
      ]
     },
     "execution_count": 18,
     "metadata": {},
     "output_type": "execute_result"
    }
   ],
   "source": [
    "\n",
    "age = df['ADMISSION_DTM'] - df['PATIENT_BIRTH_DATE']\n",
    "years = [np.round(a.days/365.25) for a in age]\n",
    "np.min(years), np.max(years)"
   ]
  },
  {
   "cell_type": "code",
   "execution_count": 26,
   "id": "fae1b57d",
   "metadata": {},
   "outputs": [
    {
     "data": {
      "text/plain": [
       "(array(['1850-01-01 00:00:00', '1850-01-01 00:00:00',\n",
       "        '1850-01-01 00:00:00', '1850-01-01 00:00:00',\n",
       "        '1915-04-27 00:00:00', '1850-01-01 00:00:00',\n",
       "        '1918-07-20 00:00:00', '1918-01-05 00:00:00',\n",
       "        '1918-07-20 00:00:00', '1916-06-26 00:00:00',\n",
       "        '1850-01-01 00:00:00', '1850-01-01 00:00:00',\n",
       "        '1917-04-02 00:00:00', '1850-01-01 00:00:00',\n",
       "        '1850-01-01 00:00:00', '1850-01-01 00:00:00',\n",
       "        '1901-01-01 00:00:00', '1917-10-31 00:00:00',\n",
       "        '1850-01-01 00:00:00', '1901-01-01 00:00:00',\n",
       "        '1917-10-21 00:00:00', '1917-05-20 00:00:00',\n",
       "        '1901-01-01 00:00:00', '1918-03-24 00:00:00',\n",
       "        '1850-01-01 00:00:00', '1918-07-20 00:00:00',\n",
       "        '1850-01-01 00:00:00', '1901-01-01 00:00:00',\n",
       "        '1850-01-01 00:00:00', '1901-01-01 00:00:00',\n",
       "        '1901-01-01 00:00:00', '1901-01-01 00:00:00',\n",
       "        '1901-01-01 00:00:00', '1915-09-05 00:00:00',\n",
       "        '1850-01-01 00:00:00', '1917-09-01 00:00:00',\n",
       "        '1901-01-01 00:00:00', '1850-01-01 00:00:00',\n",
       "        '1901-01-01 00:00:00', '1917-11-03 00:00:00',\n",
       "        '1917-02-02 00:00:00', '1918-03-24 00:00:00',\n",
       "        '1850-01-01 00:00:00', '1901-01-01 00:00:00',\n",
       "        '1850-01-01 00:00:00', '1917-03-25 00:00:00',\n",
       "        '1915-10-31 00:00:00', '1850-01-01 00:00:00',\n",
       "        '1918-07-26 00:00:00', '1917-04-13 00:00:00',\n",
       "        '1901-01-01 00:00:00', '1917-08-17 00:00:00',\n",
       "        '1918-01-10 00:00:00', '1901-01-01 00:00:00',\n",
       "        '1918-07-26 00:00:00', '1918-08-31 00:00:00',\n",
       "        '1917-09-14 00:00:00', '1850-01-01 00:00:00',\n",
       "        '1918-07-26 00:00:00', '1901-01-01 00:00:00',\n",
       "        '1917-07-28 00:00:00', '1915-09-05 00:00:00',\n",
       "        '1850-01-01 00:00:00', '1901-01-01 00:00:00',\n",
       "        '1850-01-01 00:00:00', '1918-06-27 00:00:00',\n",
       "        '1901-01-01 00:00:00', '1850-01-01 00:00:00',\n",
       "        '1917-04-17 00:00:00', '1850-01-01 00:00:00',\n",
       "        '1901-01-01 00:00:00', '1901-01-01 00:00:00',\n",
       "        '1901-01-01 00:00:00', '1901-01-01 00:00:00',\n",
       "        '1917-10-08 00:00:00', '1850-01-01 00:00:00',\n",
       "        '1850-01-01 00:00:00', '1850-01-01 00:00:00',\n",
       "        '1850-01-01 00:00:00', '1901-01-01 00:00:00',\n",
       "        '1917-09-02 00:00:00', '1850-01-01 00:00:00',\n",
       "        '1917-06-30 00:00:00', '1918-07-26 00:00:00',\n",
       "        '1850-01-01 00:00:00', '1918-01-09 00:00:00',\n",
       "        '1901-01-01 00:00:00', '1901-01-01 00:00:00',\n",
       "        '1917-09-02 00:00:00', '1850-01-01 00:00:00',\n",
       "        '1918-07-20 00:00:00', '1850-01-01 00:00:00',\n",
       "        '1915-09-05 00:00:00', '1850-01-01 00:00:00',\n",
       "        '1917-09-02 00:00:00', '1918-10-06 00:00:00',\n",
       "        '1917-09-02 00:00:00', '1915-06-20 00:00:00',\n",
       "        '1850-01-01 00:00:00', '1901-01-01 00:00:00',\n",
       "        '1850-01-01 00:00:00', '1901-01-01 00:00:00',\n",
       "        '1916-02-02 00:00:00', '1850-01-01 00:00:00'], dtype=object),\n",
       " array([10076073, 10105226, 10126913, 10129556,  1276655, 10111070,\n",
       "         3396667,  3302905,  3396667,  2266863,  9962245,  9982675,\n",
       "         4340339, 10010371, 10051973, 10121050, 10150581,  1293485,\n",
       "        10094323, 10153686,   139063,   409730, 10154360,   824037,\n",
       "        10143136,  3396667, 10107858, 10166457,  9922919, 10168007,\n",
       "        10168007, 10166480, 10162725, 10058021,  9844595,  8364430,\n",
       "        10179656, 10005385, 10186562,  6962908,  5228689,   824037,\n",
       "        10050036, 10186377, 10093024,  2715862,  4872983,  9868149,\n",
       "         9294686, 10201780, 10201043,  4570406,  5410355, 10209051,\n",
       "         9294686,   156459,  5012631, 10066238,  9294686, 10220600,\n",
       "         5021067, 10058021,  9796897, 10227588, 10227876,  2933162,\n",
       "        10234777, 10186188,  5401286, 10093024, 10234842, 10239584,\n",
       "        10242018, 10211537,  3125119, 10242321, 10259701, 10226269,\n",
       "         7145175, 10276057,   285618,  9951411,   755213,  9294686,\n",
       "        10165483,  3172471, 10306135, 10307745,   285618, 10233583,\n",
       "         3396667, 10259806, 10058021, 10105047,   285618,  5896458,\n",
       "          285618,   129218, 10335482, 10334638, 10309604, 10345185,\n",
       "         4959875, 10238157]))"
      ]
     },
     "execution_count": 26,
     "metadata": {},
     "output_type": "execute_result"
    }
   ],
   "source": [
    "idx = [i for i in range(len(years)) if years[i]>100]\n",
    "df['PATIENT_BIRTH_DATE'].values[idx], df['PATIENT_DK_x'].values[idx]"
   ]
  },
  {
   "cell_type": "code",
   "execution_count": 30,
   "id": "85efd87d",
   "metadata": {},
   "outputs": [
    {
     "data": {
      "text/plain": [
       "(   #  PATIENT_DK PATIENT_BIRTH_DATE PATIENT_DEATH_DATE PATIENT_DECEASED_FLAG  \\\n",
       " 0  1       16720         1922-11-26         0001-01-01                     N   \n",
       " 1  2       16720         1922-11-26                NaN                     N   \n",
       " 2  3       16720         1922-11-26         0001-01-01                     N   \n",
       " 3  4       16720         1922-11-26         2020-11-28                     Y   \n",
       " 4  5       16720         1922-11-26                NaN                     N   \n",
       " \n",
       "    PATIENT_ETHNICITY_NAME PATIENT_GENDER_NAME PATIENT_PRIMARY_CITY  \\\n",
       " 0  Not Hispanic or Latino              FEMALE            Rochester   \n",
       " 1  Not Hispanic or Latino              FEMALE               WASECA   \n",
       " 2  Not Hispanic or Latino              FEMALE               Waseca   \n",
       " 3  Not Hispanic or Latino              FEMALE               Waseca   \n",
       " 4  Not Hispanic or Latino              FEMALE               Waseca   \n",
       " \n",
       "   PATIENT_RACE_NAME   PATIENT_RELIGION_NAME  \n",
       " 0             White    CHRISTIAN, NON SPECI  \n",
       " 1             White  Non-specific Christian  \n",
       " 2             White    CHRISTIAN, NON SPECI  \n",
       " 3             White               Methodist  \n",
       " 4             White               Methodist  ,\n",
       " Index(['#', 'PATIENT_DK', 'PATIENT_BIRTH_DATE', 'PATIENT_DEATH_DATE',\n",
       "        'PATIENT_DECEASED_FLAG', 'PATIENT_ETHNICITY_NAME',\n",
       "        'PATIENT_GENDER_NAME', 'PATIENT_PRIMARY_CITY', 'PATIENT_RACE_NAME',\n",
       "        'PATIENT_RELIGION_NAME'],\n",
       "       dtype='object'))"
      ]
     },
     "execution_count": 30,
     "metadata": {},
     "output_type": "execute_result"
    }
   ],
   "source": [
    "df2 =  pd.read_csv('../bucket1/Readmission/EDTWH_DIM_PATIENT_HISTORY_3.csv')\n",
    "df2.head(), df2.columns"
   ]
  },
  {
   "cell_type": "code",
   "execution_count": 34,
   "id": "9b0e104c",
   "metadata": {},
   "outputs": [
    {
     "name": "stdout",
     "output_type": "stream",
     "text": [
      "302473\n"
     ]
    },
    {
     "data": {
      "text/plain": [
       "147063"
      ]
     },
     "execution_count": 34,
     "metadata": {},
     "output_type": "execute_result"
    }
   ],
   "source": [
    "print(len(df2))\n",
    "df2 = df2.drop_duplicates(subset=['PATIENT_DK', 'PATIENT_BIRTH_DATE'])\n",
    "len(df2)"
   ]
  },
  {
   "cell_type": "code",
   "execution_count": 35,
   "id": "67464e34",
   "metadata": {},
   "outputs": [
    {
     "data": {
      "text/plain": [
       "(array(['1915-06-20', '1917-10-21', '1918-08-31', '1917-09-02',\n",
       "        '1917-05-20', '1917-06-30', '1918-03-24', '1915-04-27',\n",
       "        '1917-10-31', '1916-06-26', '1917-03-25', '1918-06-27',\n",
       "        '1917-10-08', '1918-01-09', '1918-01-05', '1918-07-20',\n",
       "        '1917-04-02', '1917-08-17', '1915-10-31', '1916-02-02',\n",
       "        '1917-09-14', '1917-07-28', '1917-02-02', '1917-04-17',\n",
       "        '1918-01-10', '1918-10-06', '1917-11-03', '1850-01-01',\n",
       "        '1958-06-22', '1917-09-01', '1918-07-26', '1850-01-01',\n",
       "        '2017-12-01', '1850-01-01', '2018-02-07', '1850-01-01',\n",
       "        '2018-03-08', '1850-01-01', '2018-05-16', '1850-01-01',\n",
       "        '2018-06-21', '1850-01-01', '2018-07-04', '1850-01-01',\n",
       "        '2018-07-30', '1850-01-01', '2018-08-25', '1850-01-01',\n",
       "        '2018-08-31', '1850-01-01', '2018-10-15', '1850-01-01',\n",
       "        '2018-10-17', '1915-09-05', '1850-01-01', '2018-11-02',\n",
       "        '1850-01-01', '2018-11-13', '1850-01-01', '2018-12-04',\n",
       "        '1850-01-01', '2018-12-04', '1850-01-01', '2018-12-16',\n",
       "        '1850-01-01', '2018-12-15', '1850-01-01', '2018-12-19',\n",
       "        '1850-01-01', '2019-01-02', '1850-01-01', '2019-01-07',\n",
       "        '1850-01-01', '2019-01-11', '1850-01-01', '2019-01-14',\n",
       "        '1850-01-01', '2019-01-30', '1901-01-01', '1949-06-11',\n",
       "        '1901-01-01', '1941-08-11', '1901-01-01', '1962-07-04',\n",
       "        '1901-01-01', '1985-06-25', '1850-01-01', '2019-02-23',\n",
       "        '1901-01-01', '2007-07-30', '1901-01-01', '2006-07-27',\n",
       "        '1901-01-01', '1954-01-01', '1901-01-01', '1934-09-29',\n",
       "        '1850-01-01', '2019-03-17', '1901-01-01', '1937-09-28',\n",
       "        '1901-01-01', '1962-01-17', '1901-01-01', '1954-01-03',\n",
       "        '1917-04-13', '1901-01-01', '1960-02-16', '1901-01-01',\n",
       "        '1998-07-12', '1901-01-01', '1936-06-12', '1850-01-01',\n",
       "        '2019-04-27', '1901-01-01', '1949-03-31', '1850-01-01',\n",
       "        '2019-04-30', '1850-01-01', '2019-05-03', '1901-01-01',\n",
       "        '1975-09-27', '1901-01-01', '1940-04-23', '1850-01-01',\n",
       "        '2019-05-09', '1901-01-01', '1951-12-16', '1901-01-01',\n",
       "        '1951-05-16', '1850-01-01', '2019-05-19', '1850-01-01',\n",
       "        '2019-05-29', '1850-01-01', '2019-06-01', '1901-01-01',\n",
       "        '1983-04-17', '1901-01-01', '1970-01-03', '1901-01-01',\n",
       "        '1979-02-25', '1850-01-01', '2019-07-18', '1901-01-01',\n",
       "        '1941-05-02', '1850-01-01', '2019-08-10', '1901-01-01',\n",
       "        '1988-03-22'], dtype=object),\n",
       " 104,\n",
       " 149)"
      ]
     },
     "execution_count": 35,
     "metadata": {},
     "output_type": "execute_result"
    }
   ],
   "source": [
    "pids = df['PATIENT_DK_x'].values[idx]\n",
    "df\n",
    "temp = df2.loc[df2.PATIENT_DK.isin(pids)]\n",
    "temp.PATIENT_BIRTH_DATE.values, len(pids), len(temp)"
   ]
  },
  {
   "cell_type": "code",
   "execution_count": 40,
   "id": "b3020b70",
   "metadata": {},
   "outputs": [
    {
     "name": "stdout",
     "output_type": "stream",
     "text": [
      "0\n",
      "1000\n",
      "2000\n",
      "3000\n",
      "4000\n",
      "5000\n",
      "6000\n",
      "7000\n",
      "8000\n",
      "9000\n",
      "10000\n",
      "11000\n",
      "12000\n",
      "13000\n",
      "14000\n",
      "15000\n",
      "16000\n",
      "17000\n",
      "18000\n",
      "19000\n",
      "20000\n",
      "21000\n",
      "22000\n",
      "23000\n",
      "24000\n",
      "25000\n",
      "26000\n",
      "27000\n"
     ]
    }
   ],
   "source": [
    "for i,j in df.iterrows():\n",
    "    pid = df.at[i, 'PATIENT_DK_x']\n",
    "    temp = df2.loc[df2.PATIENT_DK==pid]\n",
    "    df.at[i, 'PATIENT_BIRTH_DATE'] = temp.at[temp.index[-1], 'PATIENT_BIRTH_DATE']\n",
    "    if i%1000==0:\n",
    "        print(i)"
   ]
  },
  {
   "cell_type": "code",
   "execution_count": 43,
   "id": "1c1bf673",
   "metadata": {},
   "outputs": [],
   "source": [
    "df['ADMISSION_DTM'] = pd.to_datetime(df['ADMISSION_DTM'] ,format = '%Y-%m-%d', errors = 'coerce')\n",
    "# df['PATIENT_BIRTH_DATE'] = pd.to_datetime(df['PATIENT_BIRTH_DATE'],format = '%Y-%m-%d', errors = 'coerce')\n",
    "# df['PATIENT_BIRTH_DATE']"
   ]
  },
  {
   "cell_type": "code",
   "execution_count": 44,
   "id": "b48cd626",
   "metadata": {},
   "outputs": [
    {
     "data": {
      "text/plain": [
       "(0.0, 104.0)"
      ]
     },
     "execution_count": 44,
     "metadata": {},
     "output_type": "execute_result"
    }
   ],
   "source": [
    "age = df['ADMISSION_DTM'] - df['PATIENT_BIRTH_DATE']\n",
    "years = [np.round(a.days/365.25) for a in age]\n",
    "np.min(years), np.max(years)"
   ]
  },
  {
   "cell_type": "code",
   "execution_count": 45,
   "id": "a872ea22",
   "metadata": {},
   "outputs": [],
   "source": [
    "df['PATIENT_AGE_NEW'] = years"
   ]
  },
  {
   "cell_type": "code",
   "execution_count": 46,
   "id": "ebe5097d",
   "metadata": {},
   "outputs": [],
   "source": [
    "df.to_csv('../bucket1/Amara/Readmission_Data/Baseline/Readmission_label_Demo_processed_w_xray_loc_expanded_w_MRN_48h_cpt_icd_DischargeNote_from_dnotes_file_w_DiagnosisNewL3_w_ClassID_w_XrayIndicator_w_LabCount_w_Death_new.csv')\n"
   ]
  },
  {
   "cell_type": "code",
   "execution_count": 47,
   "id": "0069403a",
   "metadata": {},
   "outputs": [
    {
     "name": "stdout",
     "output_type": "stream",
     "text": [
      "PATIENT_BIRTH_DATE\n",
      "PATIENT_AGE\n",
      "PATIENT_AGE_BINNED\n",
      "PATIENT_AGE_NEW\n"
     ]
    }
   ],
   "source": [
    "for c in df.columns:\n",
    "    if 'AGE' in c or 'BIRTH' in c:\n",
    "        print(c)"
   ]
  },
  {
   "cell_type": "code",
   "execution_count": null,
   "id": "30171002",
   "metadata": {},
   "outputs": [],
   "source": [
    "df=pd.read_csv('../bucket1/Amara/Readmission_Data/Baseline/Readmission_label_Demo_processed_w_xray_loc_expanded_w_MRN_48h_cpt_icd_DischargeNote_from_dnotes_file_w_DiagnosisNewL3_w_ClassID_w_XrayIndicator_w_LabCount_w_Death_new.csv')\n"
   ]
  },
  {
   "cell_type": "code",
   "execution_count": 49,
   "id": "a9edac77",
   "metadata": {},
   "outputs": [
    {
     "name": "stderr",
     "output_type": "stream",
     "text": [
      "/opt/conda/lib/python3.7/site-packages/IPython/core/interactiveshell.py:3170: DtypeWarning: Columns (8) have mixed types.Specify dtype option on import or set low_memory=False.\n",
      "  interactivity=interactivity, compiler=compiler, result=result)\n"
     ]
    }
   ],
   "source": [
    "df3 = pd.read_csv('../bucket1/Amara/Readmission_Data/Baseline/Readmission_label_Demo_processed_w_xray_loc_expanded_w_MRN_48h_cpt_icd_DischargeNote_from_dnotes_file_w_DiagnosisNewL3_w_ClassID_w_XrayIndicator_w_LabCount_w_Death_anonymized_new.csv')"
   ]
  },
  {
   "cell_type": "code",
   "execution_count": 50,
   "id": "47f98465",
   "metadata": {},
   "outputs": [
    {
     "data": {
      "text/plain": [
       "(27838, 27838)"
      ]
     },
     "execution_count": 50,
     "metadata": {},
     "output_type": "execute_result"
    }
   ],
   "source": [
    "len(df), len(df3)"
   ]
  },
  {
   "cell_type": "code",
   "execution_count": 51,
   "id": "928d656c",
   "metadata": {},
   "outputs": [],
   "source": [
    "df3['PATIENT_AGE_NEW'] = df['PATIENT_AGE_NEW'].copy()"
   ]
  },
  {
   "cell_type": "code",
   "execution_count": 54,
   "id": "8b2e5afb",
   "metadata": {},
   "outputs": [],
   "source": [
    "df3.to_csv('../bucket1/Amara/Readmission_Data/Baseline/Readmission_label_Demo_processed_w_xray_loc_expanded_w_MRN_48h_cpt_icd_DischargeNote_from_dnotes_file_w_DiagnosisNewL3_w_ClassID_w_XrayIndicator_w_LabCount_w_Death_anonymized_new_age.csv')"
   ]
  },
  {
   "cell_type": "code",
   "execution_count": 55,
   "id": "6c411c11",
   "metadata": {},
   "outputs": [
    {
     "name": "stderr",
     "output_type": "stream",
     "text": [
      "/opt/conda/lib/python3.7/site-packages/IPython/core/interactiveshell.py:3170: DtypeWarning: Columns (9) have mixed types.Specify dtype option on import or set low_memory=False.\n",
      "  interactivity=interactivity, compiler=compiler, result=result)\n"
     ]
    }
   ],
   "source": [
    "df3 = pd.read_csv('../bucket1/Amara/Readmission_Data/Baseline/Readmission_label_Demo_processed_w_xray_loc_expanded_w_MRN_48h_cpt_icd_DischargeNote_from_dnotes_file_w_DiagnosisNewL3_w_ClassID_w_XrayIndicator_w_LabCount_w_Death_anonymized_new_age.csv')"
   ]
  },
  {
   "cell_type": "code",
   "execution_count": 66,
   "id": "98e35c62",
   "metadata": {},
   "outputs": [
    {
     "name": "stdout",
     "output_type": "stream",
     "text": [
      "292\n"
     ]
    },
    {
     "data": {
      "text/plain": [
       "(None,\n",
       " 1.0    34\n",
       " 2.0    19\n",
       " 3.0    12\n",
       " 4.0     8\n",
       " 5.0     3\n",
       " 6.0     2\n",
       " Name: Gap in months, dtype: int64,\n",
       " 0.11643835616438356)"
      ]
     },
     "execution_count": 66,
     "metadata": {},
     "output_type": "execute_result"
    }
   ],
   "source": [
    "len(df3), \n",
    "temp3 = df3.loc[df3.PATIENT_AGE_NEW<5]\n",
    "print(len(temp3)), temp3['Gap in months'].value_counts(), len(temp3.loc[temp3['Gap in months']==1])/len(temp3)"
   ]
  },
  {
   "cell_type": "code",
   "execution_count": 67,
   "id": "e339460f",
   "metadata": {},
   "outputs": [
    {
     "data": {
      "text/plain": [
       "True"
      ]
     },
     "execution_count": 67,
     "metadata": {},
     "output_type": "execute_result"
    }
   ],
   "source": [
    "'INCLUDED' in df3.columns"
   ]
  }
 ],
 "metadata": {
  "environment": {
   "name": "pytorch-gpu.1-8.m71",
   "type": "gcloud",
   "uri": "gcr.io/deeplearning-platform-release/pytorch-gpu.1-8:m71"
  },
  "kernelspec": {
   "display_name": "Python 3",
   "language": "python",
   "name": "python3"
  },
  "language_info": {
   "codemirror_mode": {
    "name": "ipython",
    "version": 3
   },
   "file_extension": ".py",
   "mimetype": "text/x-python",
   "name": "python",
   "nbconvert_exporter": "python",
   "pygments_lexer": "ipython3",
   "version": "3.7.10"
  }
 },
 "nbformat": 4,
 "nbformat_minor": 5
}
